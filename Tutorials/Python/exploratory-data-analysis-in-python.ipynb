{
 "cells": [
  {
   "cell_type": "markdown",
   "id": "53ba0e01",
   "metadata": {
    "papermill": {
     "duration": 0.003978,
     "end_time": "2024-04-21T05:15:08.006915",
     "exception": false,
     "start_time": "2024-04-21T05:15:08.002937",
     "status": "completed"
    },
    "tags": []
   },
   "source": [
    "<p align=\"center\">\n",
    "  <img src=\"https://assets-global.website-files.com/61488f4f65be16b5ebbd450b/65ccf42a5459dae893f90ca8_Exploratory_Data_Analysis_-_Header_-_Polymer.webp\" width=900>\n",
    "</p>\n",
    "\n",
    "## What is Exploratory Data Analysis (EDA)?\n",
    "\n",
    "Exploratory Data Analysis (EDA) is an essential step in any data science project. It involves investigating and analyzing datasets to understand their characteristics, identify patterns, detect outliers, and uncover relationships between variables. EDA helps in gaining initial insights into the data before diving into more complex analyses."
   ]
  },
  {
   "cell_type": "markdown",
   "id": "b695871b",
   "metadata": {
    "papermill": {
     "duration": 0.002913,
     "end_time": "2024-04-21T05:15:08.013285",
     "exception": false,
     "start_time": "2024-04-21T05:15:08.010372",
     "status": "completed"
    },
    "tags": []
   },
   "source": [
    "## The Foremost Goals of EDA\n",
    "\n",
    "- Descriptive Statistics\n",
    "- Data Visualization\n",
    "- Feature Engineering\n",
    "- Correlation and Relationships\n",
    "- Data Segmentation\n",
    "- Hypothesis Generation\n",
    "- Data Quality Assessment"
   ]
  },
  {
   "cell_type": "markdown",
   "id": "cfd39278",
   "metadata": {
    "papermill": {
     "duration": 0.002645,
     "end_time": "2024-04-21T05:15:08.018963",
     "exception": false,
     "start_time": "2024-04-21T05:15:08.016318",
     "status": "completed"
    },
    "tags": []
   },
   "source": [
    "## Types of EDA\n",
    "\n",
    "1. Bivariate Analysis\n",
    "2. Multivariate Analysis\n",
    "3. Time Series Analysis\n",
    "4. Missing Data Analysis\n",
    "5. Outlier Analysis\n",
    "6. Data Visualization"
   ]
  },
  {
   "cell_type": "markdown",
   "id": "86aafa92",
   "metadata": {
    "papermill": {
     "duration": 0.002637,
     "end_time": "2024-04-21T05:15:08.024503",
     "exception": false,
     "start_time": "2024-04-21T05:15:08.021866",
     "status": "completed"
    },
    "tags": []
   },
   "source": [
    "## EDA Using Python Libraries\n",
    "\n",
    "Python libraries like `Pandas` and `Matplotlib` are commonly used for EDA. Techniques such as data reading, summary statistics, data type conversion, handling missing values, and data visualization are performed using these libraries.\n",
    "\n",
    "```\n",
    "import pandas as pd\n",
    "\n",
    "# Read dataset\n",
    "df = pd.read_csv('dataset.csv')\n",
    "\n",
    "# Display first few rows \n",
    "print(df.head())\n",
    "\n",
    "# Get dataset shape\n",
    "print(\"Shape of the dataset: \", df.shape)\n",
    "\n",
    "\n",
    "# Get summary statistics\n",
    "print(\"Summary statistics: \\n\", df.describe())\n",
    "\n",
    "# Check data types\n",
    "print(\"Data types: \\n\", df.dtypes)\n",
    "```"
   ]
  },
  {
   "cell_type": "markdown",
   "id": "a3741659",
   "metadata": {
    "papermill": {
     "duration": 0.002615,
     "end_time": "2024-04-21T05:15:08.029952",
     "exception": false,
     "start_time": "2024-04-21T05:15:08.027337",
     "status": "completed"
    },
    "tags": []
   },
   "source": [
    "## Handling Missing Values\n",
    "\n",
    "Missing data can impact analysis. Techniques such as filling missing values, dropping rows with missing data, and data imputation are used to handle missing values effectively.\n",
    "\n",
    "```\n",
    "# Fill missing values with 'No Gender'\n",
    "df[ \"Gender\"].fillna (\"No Gender\", inplace=True)\n",
    "\n",
    "# Fill missing values in 'Senior Management' with mode \n",
    "mode = df[ 'Senior Management'].mode().values[0]\n",
    "df['Senior Management'] = df['Senior Management'].fillna(mode)\n",
    "\n",
    "# Drop rows with missing values in 'First Name' and 'Team' \n",
    "df.dropna (subset=['First Name', 'Team'], inplace=True)\n",
    "```"
   ]
  },
  {
   "cell_type": "markdown",
   "id": "7a58e78a",
   "metadata": {
    "papermill": {
     "duration": 0.002685,
     "end_time": "2024-04-21T05:15:08.035548",
     "exception": false,
     "start_time": "2024-04-21T05:15:08.032863",
     "status": "completed"
    },
    "tags": []
   },
   "source": [
    "## Data Encoding\n",
    "\n",
    "Categorical data may need to be encoded into numerical columns for certain models. Techniques like Label Encoding and One-hot Encoding can be used for this purpose.\n",
    "\n",
    "```\n",
    "from sklearn.preprocessing import LabelEncoder\n",
    "\n",
    "le = LabelEncoder()\n",
    "df['Gender'] = le.fit_transform(df['Gender'])\n",
    "```"
   ]
  },
  {
   "cell_type": "markdown",
   "id": "1a0f95ea",
   "metadata": {
    "papermill": {
     "duration": 0.002614,
     "end_time": "2024-04-21T05:15:08.040995",
     "exception": false,
     "start_time": "2024-04-21T05:15:08.038381",
     "status": "completed"
    },
    "tags": []
   },
   "source": [
    "## Data Visualization Techniques\n",
    "\n",
    "Various visualization techniques such as histograms, box plots, scatter plots, and pair plots are used to explore data visually and understand trends and patterns.\n",
    "\n",
    "```\n",
    "import seaborn as sns\n",
    "import matplotlib.pyplot as plt\n",
    "\n",
    "# Histogram\n",
    "sns.histplot(x='Salary', data=df)\n",
    "plt.title('Histogram of Salary')\n",
    "plt.show()\n",
    "\n",
    "# Boxplot\n",
    "sns.boxplot(x='Salary', y='Team', data=df)\n",
    "plt.title('Boxplot of Salary by Team')\n",
    "plt.show()\n",
    "\n",
    "# Scatter plot\n",
    "sns.scatterplot (x='Salary', y='Team', data=df, hue='Gender', size='Bonus %')\n",
    "plt.title('Scatter plot of Salary and Team with Gender and Bonus %') \n",
    "plt.legend(bbox_to_anchor=(1, 1), loc=2)\n",
    "plt.show()\n",
    "```"
   ]
  },
  {
   "cell_type": "markdown",
   "id": "0ac7de4d",
   "metadata": {
    "papermill": {
     "duration": 0.002612,
     "end_time": "2024-04-21T05:15:08.046440",
     "exception": false,
     "start_time": "2024-04-21T05:15:08.043828",
     "status": "completed"
    },
    "tags": []
   },
   "source": [
    "## Handling Outliers\n",
    "\n",
    "Outliers, data points significantly deviating from the rest, can affect analysis. Techniques like Interquartile Range (IQR) method are used to detect and remove outliers.\n",
    "\n",
    "```\n",
    "Q1 = df['Salary'].quantile (0.25)\n",
    "Q3 = df['Salary'].quantile (0.75) IQR = Q3 - Q1\n",
    "\n",
    "# Detect and remove outliers\n",
    "df = df[(df['Salary'] >= Q1 - 1.5 * IQR) & (df['Salary'] <= Q3 + 1.5 * IQR)]\n",
    "```"
   ]
  }
 ],
 "metadata": {
  "kaggle": {
   "accelerator": "none",
   "dataSources": [],
   "dockerImageVersionId": 30698,
   "isGpuEnabled": false,
   "isInternetEnabled": true,
   "language": "python",
   "sourceType": "notebook"
  },
  "kernelspec": {
   "display_name": "Python 3",
   "language": "python",
   "name": "python3"
  },
  "language_info": {
   "codemirror_mode": {
    "name": "ipython",
    "version": 3
   },
   "file_extension": ".py",
   "mimetype": "text/x-python",
   "name": "python",
   "nbconvert_exporter": "python",
   "pygments_lexer": "ipython3",
   "version": "3.10.13"
  },
  "papermill": {
   "default_parameters": {},
   "duration": 3.379507,
   "end_time": "2024-04-21T05:15:08.369494",
   "environment_variables": {},
   "exception": null,
   "input_path": "__notebook__.ipynb",
   "output_path": "__notebook__.ipynb",
   "parameters": {},
   "start_time": "2024-04-21T05:15:04.989987",
   "version": "2.5.0"
  }
 },
 "nbformat": 4,
 "nbformat_minor": 5
}
